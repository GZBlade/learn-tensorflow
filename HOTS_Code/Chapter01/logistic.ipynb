{
 "cells": [
  {
   "cell_type": "code",
   "execution_count": 1,
   "metadata": {},
   "outputs": [],
   "source": [
    "import tensorflow as tf"
   ]
  },
  {
   "cell_type": "code",
   "execution_count": 2,
   "metadata": {},
   "outputs": [
    {
     "name": "stdout",
     "output_type": "stream",
     "text": [
      "NN is:\n",
      "[[ 7. 10.]\n",
      " [15. 22.]]\n"
     ]
    }
   ],
   "source": [
    "# You can create constants in TF to\n",
    "# hold specific values\n",
    "a = tf.constant(1)\n",
    "b = tf.constant(2)\n",
    "\n",
    "# Of course you can add, multiply,\n",
    "# and compute on these as you like\n",
    "c = a + b\n",
    "d = a * b\n",
    "\n",
    "# TF numbers are stored in \"tensors\",\n",
    "# a fancy term for multidimensional arrays\n",
    "# If you pass TF a Python list, it can convert it\n",
    "V1 = tf.constant([1., 2.])   # Vector, 1-dimensional\n",
    "V2 = tf.constant([3., 4.])   # Vector, 1-dimensional\n",
    "M = tf.constant([[1., 2.]])             # Matrix, 2d\n",
    "N = tf.constant([[1., 2.],[3.,4.]])     # Matrix, 2d\n",
    "K = tf.constant([[[1., 2.],[3.,4.]]])   # Tensor, 3d+\n",
    "\n",
    "# You can also compute on tensors\n",
    "# like you did scalars, but be careful of shape\n",
    "V3 = V1 + V2\n",
    "\n",
    "# Operations are element-wise by default\n",
    "M2 = M * M\n",
    "\n",
    "# True matrix multiplication requires a special call\n",
    "NN = tf.matmul(N,N)\n",
    "\n",
    "# The above code only defines a TF \"graph\".\n",
    "# Nothing has been computed yet\n",
    "# For that, you first need to create a TF \"session\"\n",
    "sess = tf.Session()\n",
    "# Note the parallelism information TF\n",
    "# reports to you when starting a session\n",
    "\n",
    "# Now you can run specific nodes of your graph,\n",
    "# i.e. the variables you've named\n",
    "output = sess.run(NN)\n",
    "print(\"NN is:\")\n",
    "print(output)\n",
    "\n",
    "# Remember to close your session\n",
    "# when you're done using it\n",
    "sess.close()"
   ]
  },
  {
   "cell_type": "code",
   "execution_count": 3,
   "metadata": {},
   "outputs": [
    {
     "name": "stdout",
     "output_type": "stream",
     "text": [
      "M2 is:\n",
      "[[1. 4.]]\n"
     ]
    }
   ],
   "source": [
    "# Often, we work interactively,\n",
    "# it's convenient to use a simplified session\n",
    "sess = tf.InteractiveSession()\n",
    "\n",
    "# Now we can compute any node\n",
    "print(\"M2 is:\")\n",
    "print(M2.eval())"
   ]
  },
  {
   "cell_type": "code",
   "execution_count": 39,
   "metadata": {},
   "outputs": [
    {
     "name": "stdout",
     "output_type": "stream",
     "text": [
      "W is:\n",
      "0\n",
      "W after adding a:\n",
      "1\n",
      "W after adding a again:\n",
      "2\n"
     ]
    }
   ],
   "source": [
    "# TF \"variables\" can change value,\n",
    "# useful for updating model weights\n",
    "W = tf.Variable(0, name=\"weight\")\n",
    "\n",
    "# But variables must be initialized by TF before use\n",
    "# init_op = tf.initialize_all_variables()\n",
    "init_op = tf.global_variables_initializer()\n",
    "sess.run(init_op)\n",
    "\n",
    "print(\"W is:\")\n",
    "print(W.eval())\n",
    "\n",
    "# W += a\n",
    "# W = tf.assign_add(W,a)\n",
    "sess.run(W.assign_add(a))\n",
    "\n",
    "print(\"W after adding a:\")\n",
    "print(W.eval())\n",
    "\n",
    "sess.run(W.assign_add(a))\n",
    "# W = tf.assign_add(W,a)\n",
    "print(\"W after adding a again:\")\n",
    "print(W.eval())"
   ]
  },
  {
   "cell_type": "code",
   "execution_count": 40,
   "metadata": {},
   "outputs": [
    {
     "name": "stdout",
     "output_type": "stream",
     "text": [
      "E as defined:\n",
      "4\n",
      "E and d:\n",
      "[4, 2]\n",
      "E with custom d=4:\n",
      "6\n"
     ]
    }
   ],
   "source": [
    "# You can return or supply arbitrary nodes,\n",
    "# i.e. check an intermediate value or\n",
    "# sub your value in the middle of a computation\n",
    "\n",
    "E = d + b # 1*2 + 2 = 4\n",
    "\n",
    "print(\"E as defined:\")\n",
    "print(E.eval())\n",
    "\n",
    "# Let's see what d was at the same time\n",
    "print(\"E and d:\")\n",
    "print(sess.run([E,d]))\n",
    "\n",
    "# Use a custom d by specifying a dictionary\n",
    "print(\"E with custom d=4:\")\n",
    "print(sess.run(E, feed_dict = {d:4.}))"
   ]
  }
 ],
 "metadata": {
  "kernelspec": {
   "display_name": "Python 3",
   "language": "python",
   "name": "python3"
  },
  "language_info": {
   "codemirror_mode": {
    "name": "ipython",
    "version": 3
   },
   "file_extension": ".py",
   "mimetype": "text/x-python",
   "name": "python",
   "nbconvert_exporter": "python",
   "pygments_lexer": "ipython3",
   "version": "3.5.2"
  }
 },
 "nbformat": 4,
 "nbformat_minor": 2
}
